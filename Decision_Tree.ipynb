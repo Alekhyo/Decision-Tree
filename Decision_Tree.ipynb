{
  "nbformat": 4,
  "nbformat_minor": 0,
  "metadata": {
    "kernelspec": {
      "display_name": "Python 3",
      "language": "python",
      "name": "python3"
    },
    "language_info": {
      "codemirror_mode": {
        "name": "ipython",
        "version": 3
      },
      "file_extension": ".py",
      "mimetype": "text/x-python",
      "name": "python",
      "nbconvert_exporter": "python",
      "pygments_lexer": "ipython3",
      "version": "3.7.6"
    },
    "colab": {
      "name": "Decision Tree.ipynb",
      "provenance": [],
      "collapsed_sections": [],
      "include_colab_link": true
    }
  },
  "cells": [
    {
      "cell_type": "markdown",
      "metadata": {
        "id": "view-in-github",
        "colab_type": "text"
      },
      "source": [
        "<a href=\"https://colab.research.google.com/github/Alekhyo/Decision-Tree/blob/master/Decision_Tree.ipynb\" target=\"_parent\"><img src=\"https://colab.research.google.com/assets/colab-badge.svg\" alt=\"Open In Colab\"/></a>"
      ]
    },
    {
      "cell_type": "code",
      "metadata": {
        "id": "aTl5jWCqLIQg",
        "colab_type": "code",
        "colab": {}
      },
      "source": [
        "import numpy as np\n",
        "import pandas as pd\n",
        "import math"
      ],
      "execution_count": 0,
      "outputs": []
    },
    {
      "cell_type": "markdown",
      "metadata": {
        "id": "e2GPijcwLIQl",
        "colab_type": "text"
      },
      "source": [
        "## 1. You have to work on the play tennis(https://www.kaggle.com/fredericobreno/play-tennis) dataset and manually find out on which column the first split will take place."
      ]
    },
    {
      "cell_type": "code",
      "metadata": {
        "id": "1vrNEg0pLIQl",
        "colab_type": "code",
        "colab": {},
        "outputId": "1d657ee9-4377-486d-ae2a-3efc6a57eaa4"
      },
      "source": [
        "df=pd.read_csv('play_tennis.csv')\n",
        "df"
      ],
      "execution_count": 0,
      "outputs": [
        {
          "output_type": "execute_result",
          "data": {
            "text/html": [
              "<div>\n",
              "<style scoped>\n",
              "    .dataframe tbody tr th:only-of-type {\n",
              "        vertical-align: middle;\n",
              "    }\n",
              "\n",
              "    .dataframe tbody tr th {\n",
              "        vertical-align: top;\n",
              "    }\n",
              "\n",
              "    .dataframe thead th {\n",
              "        text-align: right;\n",
              "    }\n",
              "</style>\n",
              "<table border=\"1\" class=\"dataframe\">\n",
              "  <thead>\n",
              "    <tr style=\"text-align: right;\">\n",
              "      <th></th>\n",
              "      <th>day</th>\n",
              "      <th>outlook</th>\n",
              "      <th>temp</th>\n",
              "      <th>humidity</th>\n",
              "      <th>wind</th>\n",
              "      <th>play</th>\n",
              "    </tr>\n",
              "  </thead>\n",
              "  <tbody>\n",
              "    <tr>\n",
              "      <th>0</th>\n",
              "      <td>D1</td>\n",
              "      <td>Sunny</td>\n",
              "      <td>Hot</td>\n",
              "      <td>High</td>\n",
              "      <td>Weak</td>\n",
              "      <td>No</td>\n",
              "    </tr>\n",
              "    <tr>\n",
              "      <th>1</th>\n",
              "      <td>D2</td>\n",
              "      <td>Sunny</td>\n",
              "      <td>Hot</td>\n",
              "      <td>High</td>\n",
              "      <td>Strong</td>\n",
              "      <td>No</td>\n",
              "    </tr>\n",
              "    <tr>\n",
              "      <th>2</th>\n",
              "      <td>D3</td>\n",
              "      <td>Overcast</td>\n",
              "      <td>Hot</td>\n",
              "      <td>High</td>\n",
              "      <td>Weak</td>\n",
              "      <td>Yes</td>\n",
              "    </tr>\n",
              "    <tr>\n",
              "      <th>3</th>\n",
              "      <td>D4</td>\n",
              "      <td>Rain</td>\n",
              "      <td>Mild</td>\n",
              "      <td>High</td>\n",
              "      <td>Weak</td>\n",
              "      <td>Yes</td>\n",
              "    </tr>\n",
              "    <tr>\n",
              "      <th>4</th>\n",
              "      <td>D5</td>\n",
              "      <td>Rain</td>\n",
              "      <td>Cool</td>\n",
              "      <td>Normal</td>\n",
              "      <td>Weak</td>\n",
              "      <td>Yes</td>\n",
              "    </tr>\n",
              "    <tr>\n",
              "      <th>5</th>\n",
              "      <td>D6</td>\n",
              "      <td>Rain</td>\n",
              "      <td>Cool</td>\n",
              "      <td>Normal</td>\n",
              "      <td>Strong</td>\n",
              "      <td>No</td>\n",
              "    </tr>\n",
              "    <tr>\n",
              "      <th>6</th>\n",
              "      <td>D7</td>\n",
              "      <td>Overcast</td>\n",
              "      <td>Cool</td>\n",
              "      <td>Normal</td>\n",
              "      <td>Strong</td>\n",
              "      <td>Yes</td>\n",
              "    </tr>\n",
              "    <tr>\n",
              "      <th>7</th>\n",
              "      <td>D8</td>\n",
              "      <td>Sunny</td>\n",
              "      <td>Mild</td>\n",
              "      <td>High</td>\n",
              "      <td>Weak</td>\n",
              "      <td>No</td>\n",
              "    </tr>\n",
              "    <tr>\n",
              "      <th>8</th>\n",
              "      <td>D9</td>\n",
              "      <td>Sunny</td>\n",
              "      <td>Cool</td>\n",
              "      <td>Normal</td>\n",
              "      <td>Weak</td>\n",
              "      <td>Yes</td>\n",
              "    </tr>\n",
              "    <tr>\n",
              "      <th>9</th>\n",
              "      <td>D10</td>\n",
              "      <td>Rain</td>\n",
              "      <td>Mild</td>\n",
              "      <td>Normal</td>\n",
              "      <td>Weak</td>\n",
              "      <td>Yes</td>\n",
              "    </tr>\n",
              "    <tr>\n",
              "      <th>10</th>\n",
              "      <td>D11</td>\n",
              "      <td>Sunny</td>\n",
              "      <td>Mild</td>\n",
              "      <td>Normal</td>\n",
              "      <td>Strong</td>\n",
              "      <td>Yes</td>\n",
              "    </tr>\n",
              "    <tr>\n",
              "      <th>11</th>\n",
              "      <td>D12</td>\n",
              "      <td>Overcast</td>\n",
              "      <td>Mild</td>\n",
              "      <td>High</td>\n",
              "      <td>Strong</td>\n",
              "      <td>Yes</td>\n",
              "    </tr>\n",
              "    <tr>\n",
              "      <th>12</th>\n",
              "      <td>D13</td>\n",
              "      <td>Overcast</td>\n",
              "      <td>Hot</td>\n",
              "      <td>Normal</td>\n",
              "      <td>Weak</td>\n",
              "      <td>Yes</td>\n",
              "    </tr>\n",
              "    <tr>\n",
              "      <th>13</th>\n",
              "      <td>D14</td>\n",
              "      <td>Rain</td>\n",
              "      <td>Mild</td>\n",
              "      <td>High</td>\n",
              "      <td>Strong</td>\n",
              "      <td>No</td>\n",
              "    </tr>\n",
              "  </tbody>\n",
              "</table>\n",
              "</div>"
            ],
            "text/plain": [
              "    day   outlook  temp humidity    wind play\n",
              "0    D1     Sunny   Hot     High    Weak   No\n",
              "1    D2     Sunny   Hot     High  Strong   No\n",
              "2    D3  Overcast   Hot     High    Weak  Yes\n",
              "3    D4      Rain  Mild     High    Weak  Yes\n",
              "4    D5      Rain  Cool   Normal    Weak  Yes\n",
              "5    D6      Rain  Cool   Normal  Strong   No\n",
              "6    D7  Overcast  Cool   Normal  Strong  Yes\n",
              "7    D8     Sunny  Mild     High    Weak   No\n",
              "8    D9     Sunny  Cool   Normal    Weak  Yes\n",
              "9   D10      Rain  Mild   Normal    Weak  Yes\n",
              "10  D11     Sunny  Mild   Normal  Strong  Yes\n",
              "11  D12  Overcast  Mild     High  Strong  Yes\n",
              "12  D13  Overcast   Hot   Normal    Weak  Yes\n",
              "13  D14      Rain  Mild     High  Strong   No"
            ]
          },
          "metadata": {
            "tags": []
          },
          "execution_count": 186
        }
      ]
    },
    {
      "cell_type": "code",
      "metadata": {
        "id": "Dp3iBxCrLIQp",
        "colab_type": "code",
        "colab": {}
      },
      "source": [
        ""
      ],
      "execution_count": 0,
      "outputs": []
    },
    {
      "cell_type": "code",
      "metadata": {
        "id": "1ar-m_dzLIQs",
        "colab_type": "code",
        "colab": {}
      },
      "source": [
        "def calculate_entropy(val):     #Function to calculate entropy defined by the formula: -Py.log(Py)-Pn.log(Pn)\n",
        "    try:\n",
        "        val=float(val)\n",
        "        return round((-val*math.log(val,2)-(1-val)*math.log(1-val,2)),2)\n",
        "    except:\n",
        "        return 0.0"
      ],
      "execution_count": 0,
      "outputs": []
    },
    {
      "cell_type": "code",
      "metadata": {
        "id": "3ok0JLMSLIQu",
        "colab_type": "code",
        "colab": {}
      },
      "source": [
        "def divide(val1,val2):         #Function to divide two numbers\n",
        "    try:\n",
        "        return (round(val1/val2,2))\n",
        "    except:\n",
        "        return 0.0"
      ],
      "execution_count": 0,
      "outputs": []
    },
    {
      "cell_type": "code",
      "metadata": {
        "id": "SCWwLOHQLIQx",
        "colab_type": "code",
        "colab": {}
      },
      "source": [
        "parent=calculate_entropy(df[df['play']=='Yes'].shape[0]/df.shape[0])  #Calculating entropy of Parent"
      ],
      "execution_count": 0,
      "outputs": []
    },
    {
      "cell_type": "code",
      "metadata": {
        "id": "11MqidU3LIQz",
        "colab_type": "code",
        "colab": {}
      },
      "source": [
        ""
      ],
      "execution_count": 0,
      "outputs": []
    },
    {
      "cell_type": "code",
      "metadata": {
        "id": "2wlgjI2LLIQ2",
        "colab_type": "code",
        "colab": {}
      },
      "source": [
        "def find_IG(col_name):\n",
        "    IG=parent\n",
        "    categories=df[col_name].unique()\n",
        "    no_of_category=len(categories)\n",
        "    weighted_average=[]\n",
        "    entropy_of_children=[]\n",
        "    \n",
        "    for name in categories:\n",
        "        weighted_average.append(divide(df.loc[df[col_name]==name].shape[0],df.shape[0])) #Find weighted average of every children\n",
        "        entropy_of_children.append(divide((df.loc[(df[col_name]==name) & (df['play']=='Yes')].shape[0]),(df.loc[df[col_name]==name].shape[0])))\n",
        "        \n",
        "    for i in range(0,no_of_category):\n",
        "        entropy_of_children[i]=calculate_entropy(entropy_of_children[i]) #Find entropy of every children\n",
        "    \n",
        "    for i in range(0,no_of_category):\n",
        "        IG=IG-(weighted_average[i]*entropy_of_children[i])\n",
        "        #Calculate IG=entropy(PARENT)-weighted_average*entropy(CHILDREN)\n",
        "    \n",
        "    return(round(IG,2))"
      ],
      "execution_count": 0,
      "outputs": []
    },
    {
      "cell_type": "code",
      "metadata": {
        "id": "ZJSt-EXoLIQ4",
        "colab_type": "code",
        "colab": {}
      },
      "source": [
        "IG_dict={}"
      ],
      "execution_count": 0,
      "outputs": []
    },
    {
      "cell_type": "code",
      "metadata": {
        "id": "VJY-T5l8LIQ7",
        "colab_type": "code",
        "colab": {}
      },
      "source": [
        "for i in df.columns[1:-1]:  #Storing IG of every column except 'DAY' and 'PLAY'\n",
        "    IG_dict[i]=find_IG(i)"
      ],
      "execution_count": 0,
      "outputs": []
    },
    {
      "cell_type": "code",
      "metadata": {
        "id": "HaOOHPsrLIQ9",
        "colab_type": "code",
        "colab": {},
        "outputId": "4445472a-7077-4a35-f7be-9fbca7269b78"
      },
      "source": [
        "print(\" Hence the splitting the dataset along the feature {} results in the largest information gain and we should use this feature for our root node.\".format(max(IG_dict, key=IG_dict.get))) "
      ],
      "execution_count": 0,
      "outputs": [
        {
          "output_type": "stream",
          "text": [
            " Hence the splitting the dataset along the feature outlook results in the largest information gain and we should use this feature for our root node.\n"
          ],
          "name": "stdout"
        }
      ]
    },
    {
      "cell_type": "markdown",
      "metadata": {
        "id": "xAJ2khOeLIQ_",
        "colab_type": "text"
      },
      "source": [
        "## OUTLOOK column has highest IG"
      ]
    },
    {
      "cell_type": "code",
      "metadata": {
        "id": "vqaMFGUaLIRA",
        "colab_type": "code",
        "colab": {}
      },
      "source": [
        ""
      ],
      "execution_count": 0,
      "outputs": []
    },
    {
      "cell_type": "code",
      "metadata": {
        "id": "jt8iqRu1LIRC",
        "colab_type": "code",
        "colab": {}
      },
      "source": [
        ""
      ],
      "execution_count": 0,
      "outputs": []
    },
    {
      "cell_type": "code",
      "metadata": {
        "id": "6pgoQ0XzLIRG",
        "colab_type": "code",
        "colab": {}
      },
      "source": [
        ""
      ],
      "execution_count": 0,
      "outputs": []
    },
    {
      "cell_type": "code",
      "metadata": {
        "id": "IaW1tZLKLIRI",
        "colab_type": "code",
        "colab": {}
      },
      "source": [
        ""
      ],
      "execution_count": 0,
      "outputs": []
    },
    {
      "cell_type": "code",
      "metadata": {
        "id": "4_pWklBaLIRK",
        "colab_type": "code",
        "colab": {}
      },
      "source": [
        ""
      ],
      "execution_count": 0,
      "outputs": []
    },
    {
      "cell_type": "markdown",
      "metadata": {
        "id": "IZ_YbBIKLIRM",
        "colab_type": "text"
      },
      "source": [
        "##  2. You have to work on the iris dataset and manually find out the splitting criteria for Petal Length column"
      ]
    },
    {
      "cell_type": "code",
      "metadata": {
        "id": "wtUgNNWPLIRM",
        "colab_type": "code",
        "colab": {}
      },
      "source": [
        "iris=pd.read_csv('iris.csv')\n",
        "iris.drop(columns={'Id','SepalLengthCm','SepalWidthCm','PetalWidthCm'},inplace=True)\n",
        "iris.rename(columns={'PetalLengthCm':'PL'},inplace=True)"
      ],
      "execution_count": 0,
      "outputs": []
    },
    {
      "cell_type": "code",
      "metadata": {
        "id": "pR4pUgBiLIRO",
        "colab_type": "code",
        "colab": {}
      },
      "source": [
        "iris=iris.sort_values('PL')"
      ],
      "execution_count": 0,
      "outputs": []
    },
    {
      "cell_type": "code",
      "metadata": {
        "id": "CEWSr7DhLIRQ",
        "colab_type": "code",
        "colab": {}
      },
      "source": [
        "def calculate_multi_entropy(array):    #Function to calculate entropy using: -P1log(P1)-P2log(P2)-P3log(P3)\n",
        "    try:\n",
        "        res=0\n",
        "        for i in range(0,len(array)):\n",
        "            res=res-array[i]*math.log(array[i],2)\n",
        "        return res\n",
        "    except:\n",
        "        return 0"
      ],
      "execution_count": 0,
      "outputs": []
    },
    {
      "cell_type": "code",
      "metadata": {
        "id": "xjtX_NIvLIRS",
        "colab_type": "code",
        "colab": {}
      },
      "source": [
        "category=[]\n",
        "for species in iris['Species'].unique():\n",
        "    category.append(iris[iris['Species']==species].shape[0]/iris.shape[0])"
      ],
      "execution_count": 0,
      "outputs": []
    },
    {
      "cell_type": "code",
      "metadata": {
        "id": "VU4qc4HGLIRU",
        "colab_type": "code",
        "colab": {}
      },
      "source": [
        "parent=calculate_multi_entropy(category) #Entropy of Parent"
      ],
      "execution_count": 0,
      "outputs": []
    },
    {
      "cell_type": "code",
      "metadata": {
        "id": "Hm39THxbLIRW",
        "colab_type": "code",
        "colab": {}
      },
      "source": [
        "def find_IG_numerical(value):   #Function to calculate entropy of Numerical Column\n",
        "    value=float(value)\n",
        "    entropy1=[]\n",
        "    weighted1=0\n",
        "    \n",
        "    entropy2=[]\n",
        "    weighted2=0\n",
        "    \n",
        "    df1=iris[iris['PL']<=value]    #Dataframe where PL<=threshold\n",
        "    df2=iris[iris['PL']>value]     #Dataframe where PL>threshold\n",
        "    for i in val:\n",
        "        entropy1.append(divide(df1[df1['Species']==i].shape[0],df1.shape[0]))\n",
        "        weighted1=divide(df1.shape[0],iris.shape[0])     #Weight of child1\n",
        "        \n",
        "        entropy2.append(divide(df2[df2['Species']==i].shape[0],df2.shape[0]))\n",
        "        weighted2=divide(df2.shape[0],iris.shape[0])     #Weight of child2\n",
        "    \n",
        "    \n",
        "    entropy_of_children1=calculate_multi_entropy(entropy1)  #Entropy of child1\n",
        "    entropy_of_children2=calculate_multi_entropy(entropy2)  #Entropy of child2\n",
        "    \n",
        "    w_total=weighted1*entropy_of_children1+weighted2*entropy_of_children2   #Weighted_average*Entropy(Children)\n",
        "    return (parent-w_total)      #IG=Entropy(PARENT)-Weighted_average*Entropy(Children)"
      ],
      "execution_count": 0,
      "outputs": []
    },
    {
      "cell_type": "code",
      "metadata": {
        "id": "3XUE0oBrLIRY",
        "colab_type": "code",
        "colab": {}
      },
      "source": [
        ""
      ],
      "execution_count": 0,
      "outputs": []
    },
    {
      "cell_type": "code",
      "metadata": {
        "id": "5Cz0mm0cLIRa",
        "colab_type": "code",
        "colab": {}
      },
      "source": [
        "IG=[]                                         #Finding the IG of every value in PL(Petal_length) column\n",
        "for i in iris['PL'].values:\n",
        "    IG.append(find(i))\n",
        "IG=np.array(IG)                              "
      ],
      "execution_count": 0,
      "outputs": []
    },
    {
      "cell_type": "code",
      "metadata": {
        "id": "K0uiQ6uxLIRd",
        "colab_type": "code",
        "colab": {},
        "outputId": "bc2c3f15-0613-4bad-a3a5-33721a898db2"
      },
      "source": [
        "iris.iloc[np.argmax(IG)]                     #Finding the threshold value for ideal splitting"
      ],
      "execution_count": 0,
      "outputs": [
        {
          "output_type": "execute_result",
          "data": {
            "text/plain": [
              "PL                 1.9\n",
              "Species    Iris-setosa\n",
              "Name: 24, dtype: object"
            ]
          },
          "metadata": {
            "tags": []
          },
          "execution_count": 201
        }
      ]
    },
    {
      "cell_type": "markdown",
      "metadata": {
        "id": "mmeTUs1cLIRg",
        "colab_type": "text"
      },
      "source": [
        "## Petal_length=1.9 has the highest IG"
      ]
    },
    {
      "cell_type": "code",
      "metadata": {
        "id": "s7raBADwLIRg",
        "colab_type": "code",
        "colab": {}
      },
      "source": [
        ""
      ],
      "execution_count": 0,
      "outputs": []
    }
  ]
}