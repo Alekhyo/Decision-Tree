{
  "nbformat": 4,
  "nbformat_minor": 0,
  "metadata": {
    "colab": {
      "name": "Regression_trees.ipynb",
      "provenance": [],
      "collapsed_sections": [],
      "include_colab_link": true
    },
    "kernelspec": {
      "name": "python3",
      "display_name": "Python 3"
    }
  },
  "cells": [
    {
      "cell_type": "markdown",
      "metadata": {
        "id": "view-in-github",
        "colab_type": "text"
      },
      "source": [
        "<a href=\"https://colab.research.google.com/github/Alekhyo/Decision-Tree/blob/master/Regression_trees_updated_new.ipynb\" target=\"_parent\"><img src=\"https://colab.research.google.com/assets/colab-badge.svg\" alt=\"Open In Colab\"/></a>"
      ]
    },
    {
      "cell_type": "code",
      "metadata": {
        "id": "L5YLJv7MKZul",
        "colab_type": "code",
        "colab": {}
      },
      "source": [
        "import numpy as np\n",
        "import pandas as pd\n",
        "import matplotlib.pyplot as plt"
      ],
      "execution_count": 0,
      "outputs": []
    },
    {
      "cell_type": "code",
      "metadata": {
        "id": "Ws4XwFgyKe6t",
        "colab_type": "code",
        "colab": {}
      },
      "source": [
        "df=pd.DataFrame()"
      ],
      "execution_count": 0,
      "outputs": []
    },
    {
      "cell_type": "code",
      "metadata": {
        "id": "AwCy1_qoKrwF",
        "colab_type": "code",
        "colab": {}
      },
      "source": [
        "df['hrs']=np.array([1,2.5,1.5,2.1,5,4,6.5,3.5,8,7.5])\n",
        "df['marks']=np.array([37,50,43,60,27,80,30,75,64,56])"
      ],
      "execution_count": 0,
      "outputs": []
    },
    {
      "cell_type": "code",
      "metadata": {
        "id": "3AsaU0-PLXqb",
        "colab_type": "code",
        "outputId": "a1f477fd-2413-470d-c54d-01cbae48a5f7",
        "colab": {
          "base_uri": "https://localhost:8080/",
          "height": 343
        }
      },
      "source": [
        "df"
      ],
      "execution_count": 5,
      "outputs": [
        {
          "output_type": "execute_result",
          "data": {
            "text/html": [
              "<div>\n",
              "<style scoped>\n",
              "    .dataframe tbody tr th:only-of-type {\n",
              "        vertical-align: middle;\n",
              "    }\n",
              "\n",
              "    .dataframe tbody tr th {\n",
              "        vertical-align: top;\n",
              "    }\n",
              "\n",
              "    .dataframe thead th {\n",
              "        text-align: right;\n",
              "    }\n",
              "</style>\n",
              "<table border=\"1\" class=\"dataframe\">\n",
              "  <thead>\n",
              "    <tr style=\"text-align: right;\">\n",
              "      <th></th>\n",
              "      <th>hrs</th>\n",
              "      <th>marks</th>\n",
              "    </tr>\n",
              "  </thead>\n",
              "  <tbody>\n",
              "    <tr>\n",
              "      <th>0</th>\n",
              "      <td>1.0</td>\n",
              "      <td>37</td>\n",
              "    </tr>\n",
              "    <tr>\n",
              "      <th>1</th>\n",
              "      <td>2.5</td>\n",
              "      <td>50</td>\n",
              "    </tr>\n",
              "    <tr>\n",
              "      <th>2</th>\n",
              "      <td>1.5</td>\n",
              "      <td>43</td>\n",
              "    </tr>\n",
              "    <tr>\n",
              "      <th>3</th>\n",
              "      <td>2.1</td>\n",
              "      <td>60</td>\n",
              "    </tr>\n",
              "    <tr>\n",
              "      <th>4</th>\n",
              "      <td>5.0</td>\n",
              "      <td>27</td>\n",
              "    </tr>\n",
              "    <tr>\n",
              "      <th>5</th>\n",
              "      <td>4.0</td>\n",
              "      <td>80</td>\n",
              "    </tr>\n",
              "    <tr>\n",
              "      <th>6</th>\n",
              "      <td>6.5</td>\n",
              "      <td>30</td>\n",
              "    </tr>\n",
              "    <tr>\n",
              "      <th>7</th>\n",
              "      <td>3.5</td>\n",
              "      <td>75</td>\n",
              "    </tr>\n",
              "    <tr>\n",
              "      <th>8</th>\n",
              "      <td>8.0</td>\n",
              "      <td>64</td>\n",
              "    </tr>\n",
              "    <tr>\n",
              "      <th>9</th>\n",
              "      <td>7.5</td>\n",
              "      <td>56</td>\n",
              "    </tr>\n",
              "  </tbody>\n",
              "</table>\n",
              "</div>"
            ],
            "text/plain": [
              "   hrs  marks\n",
              "0  1.0     37\n",
              "1  2.5     50\n",
              "2  1.5     43\n",
              "3  2.1     60\n",
              "4  5.0     27\n",
              "5  4.0     80\n",
              "6  6.5     30\n",
              "7  3.5     75\n",
              "8  8.0     64\n",
              "9  7.5     56"
            ]
          },
          "metadata": {
            "tags": []
          },
          "execution_count": 5
        }
      ]
    },
    {
      "cell_type": "code",
      "metadata": {
        "id": "3ee6DyDnLY3H",
        "colab_type": "code",
        "colab": {}
      },
      "source": [
        ""
      ],
      "execution_count": 0,
      "outputs": []
    },
    {
      "cell_type": "markdown",
      "metadata": {
        "id": "6FcPVagbq3TQ",
        "colab_type": "text"
      },
      "source": [
        "# ANALYSING DATA"
      ]
    },
    {
      "cell_type": "code",
      "metadata": {
        "id": "XASn6oEvLfTj",
        "colab_type": "code",
        "outputId": "86cead21-aabd-4f2a-a8fd-6974970cc8ab",
        "colab": {
          "base_uri": "https://localhost:8080/",
          "height": 279
        }
      },
      "source": [
        "plt.scatter(df['hrs'],df['marks'])\n",
        "plt.xlabel(\"Hours Studied\")\n",
        "plt.ylabel(\"Marks Obrained\")\n",
        "plt.grid()\n",
        "plt.show()"
      ],
      "execution_count": 29,
      "outputs": [
        {
          "output_type": "display_data",
          "data": {
            "image/png": "[encoded data removed]",
            "text/plain": [
              "<Figure size 432x288 with 1 Axes>"
            ]
          },
          "metadata": {
            "tags": [],
            "needs_background": "light"
          }
        }
      ]
    },
    {
      "cell_type": "code",
      "metadata": {
        "id": "lEZYrACuXpVB",
        "colab_type": "code",
        "colab": {}
      },
      "source": [
        "df.sort_values('hrs',inplace=True)"
      ],
      "execution_count": 0,
      "outputs": []
    },
    {
      "cell_type": "code",
      "metadata": {
        "id": "DlYxsI0PXpIi",
        "colab_type": "code",
        "colab": {}
      },
      "source": [
        "hrs=df['hrs'].values"
      ],
      "execution_count": 0,
      "outputs": []
    },
    {
      "cell_type": "code",
      "metadata": {
        "id": "tnTi3dZhlzcO",
        "colab_type": "code",
        "colab": {}
      },
      "source": [
        ""
      ],
      "execution_count": 0,
      "outputs": []
    },
    {
      "cell_type": "markdown",
      "metadata": {
        "id": "WGeDFQIYrTpS",
        "colab_type": "text"
      },
      "source": [
        "# **SPLITTING CRITERIA**"
      ]
    },
    {
      "cell_type": "code",
      "metadata": {
        "id": "GtSKKd1HXo5-",
        "colab_type": "code",
        "colab": {}
      },
      "source": [
        "def find_splitting_criteria(array):\n",
        "  split_values=[]\n",
        "  squared_mean_errors=[]\n",
        "\n",
        "  for i in range(1,len(array)):\n",
        "    split_point=(array[i]+array[i-1])/2\n",
        "\n",
        "    mean_left_of_splitpoint=df[df['hrs']<=split_point]['marks'].mean()\n",
        "    \n",
        "    mean_right_of_splitpoint=df[df['hrs']>split_point]['marks'].mean()\n",
        "    \n",
        "    residual_values_left_of_splitpoint=df[df['hrs']<=split_point]['marks'].values\n",
        "\n",
        "    residual_values_right_of_splitpoint=df[df['hrs']>split_point]['marks'].values\n",
        "    \n",
        "    residual_values_left_of_splitpoint=residual_values_left_of_splitpoint-mean_left_of_splitpoint\n",
        "    \n",
        "    residual_values_right_of_splitpoint=residual_values_right_of_splitpoint-mean_right_of_splitpoint\n",
        "\n",
        "    residual_error_left_of_splitpoint=np.square(residual_values_left_of_splitpoint)\n",
        "\n",
        "    residual_error_right_of_splitpoint=np.square(residual_values_right_of_splitpoint)\n",
        "    \n",
        "    split_values.append(split_point)\n",
        "    \n",
        "    squared_mean_errors.append(np.sum(residual_error_left_of_splitpoint)+np.sum(residual_error_right_of_splitpoint))\n",
        "\n",
        "  return split_values,squared_mean_errors\n"
      ],
      "execution_count": 0,
      "outputs": []
    },
    {
      "cell_type": "code",
      "metadata": {
        "id": "5ogwnWXNXorm",
        "colab_type": "code",
        "colab": {}
      },
      "source": [
        "split_values,squared_mean_errors=find_splitting_criteria(hrs)"
      ],
      "execution_count": 0,
      "outputs": []
    },
    {
      "cell_type": "code",
      "metadata": {
        "id": "Q9_lUBqIsxSD",
        "colab_type": "code",
        "colab": {
          "base_uri": "https://localhost:8080/",
          "height": 279
        },
        "outputId": "d38b9d78-d9fb-454c-f31c-8ccbc76f9901"
      },
      "source": [
        "plt.scatter(split_values,squared_mean_errors)\n",
        "plt.xlabel(\"Splitting Criteria\")\n",
        "plt.ylabel(\"Error\")\n",
        "plt.grid()\n",
        "plt.show()"
      ],
      "execution_count": 44,
      "outputs": [
        {
          "output_type": "display_data",
          "data": {
            "image/png": "[encoded data removed]",
            "text/plain": [
              "<Figure size 432x288 with 1 Axes>"
            ]
          },
          "metadata": {
            "tags": [],
            "needs_background": "light"
          }
        }
      ]
    },
    {
      "cell_type": "markdown",
      "metadata": {
        "id": "0S0Cx_5KtOzM",
        "colab_type": "text"
      },
      "source": [
        "# **CONCLUSION**"
      ]
    },
    {
      "cell_type": "code",
      "metadata": {
        "id": "UMznNb0TrGdw",
        "colab_type": "code",
        "outputId": "fc65e087-e9a9-47dc-9405-53e2ceef3ed3",
        "colab": {
          "base_uri": "https://localhost:8080/",
          "height": 34
        }
      },
      "source": [
        "print(\"The first splitting criteria is\",means[np.argmin(errors)],\"hours as the minimum error is\",np.min(errors))"
      ],
      "execution_count": 46,
      "outputs": [
        {
          "output_type": "stream",
          "text": [
            "The first splitting criteria is 4.5 hours as the minimum error is 2534.25\n"
          ],
          "name": "stdout"
        }
      ]
    },
    {
      "cell_type": "code",
      "metadata": {
        "id": "jI3LvOf2XobB",
        "colab_type": "code",
        "outputId": "670b054d-c1aa-45f2-ff1d-a23e195574b1",
        "colab": {
          "base_uri": "https://localhost:8080/",
          "height": 295
        }
      },
      "source": [
        "plt.scatter(df['hrs'],df['marks'])\n",
        "plt.axvline(x=4.50,ymax=1,color='red',label='First Split')\n",
        "plt.xlabel(\"Hours Studied\")\n",
        "plt.ylabel(\"Marks Obtained\")\n",
        "plt.title(\"Hours Studied VS Marks Obtained\")\n",
        "plt.legend()\n",
        "plt.show()"
      ],
      "execution_count": 47,
      "outputs": [
        {
          "output_type": "display_data",
          "data": {
            "image/png": "[encoded data removed]",
            "text/plain": [
              "<Figure size 432x288 with 1 Axes>"
            ]
          },
          "metadata": {
            "tags": [],
            "needs_background": "light"
          }
        }
      ]
    },
    {
      "cell_type": "code",
      "metadata": {
        "id": "ALkzVX-XXoZF",
        "colab_type": "code",
        "colab": {}
      },
      "source": [
        ""
      ],
      "execution_count": 0,
      "outputs": []
    },
    {
      "cell_type": "code",
      "metadata": {
        "id": "-se8nbWXXoUl",
        "colab_type": "code",
        "colab": {}
      },
      "source": [
        ""
      ],
      "execution_count": 0,
      "outputs": []
    },
    {
      "cell_type": "code",
      "metadata": {
        "id": "hYlyscnvXoSK",
        "colab_type": "code",
        "colab": {}
      },
      "source": [
        ""
      ],
      "execution_count": 0,
      "outputs": []
    },
    {
      "cell_type": "code",
      "metadata": {
        "id": "lxUx1SJ_XoN5",
        "colab_type": "code",
        "colab": {}
      },
      "source": [
        ""
      ],
      "execution_count": 0,
      "outputs": []
    },
    {
      "cell_type": "code",
      "metadata": {
        "id": "8GdKTwIFXoLb",
        "colab_type": "code",
        "colab": {}
      },
      "source": [
        ""
      ],
      "execution_count": 0,
      "outputs": []
    },
    {
      "cell_type": "code",
      "metadata": {
        "id": "kClGi0XfXn_7",
        "colab_type": "code",
        "colab": {}
      },
      "source": [
        ""
      ],
      "execution_count": 0,
      "outputs": []
    },
    {
      "cell_type": "code",
      "metadata": {
        "id": "bD29xDFeLj5S",
        "colab_type": "code",
        "colab": {}
      },
      "source": [
        "# You have to find the first splitting criteria."
      ],
      "execution_count": 0,
      "outputs": []
    }
  ]
}